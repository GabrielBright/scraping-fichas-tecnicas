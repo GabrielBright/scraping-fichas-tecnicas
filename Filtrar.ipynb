{
 "cells": [
  {
   "cell_type": "markdown",
   "id": "aaace735",
   "metadata": {},
   "source": [
    "Filtrar Caminhões Mercedes"
   ]
  },
  {
   "cell_type": "code",
   "execution_count": 13,
   "id": "2f6e72a3",
   "metadata": {},
   "outputs": [],
   "source": [
    "import pandas as pd\n",
    "\n",
    "df_base_Mercedes_Caminhões = pd.read_excel(r\"C:\\Users\\gabriel.vinicius\\Documents\\Vscode\\Web Scraping\\dados_mercedes_caminhoes.xlsx\")\n",
    "\n",
    "# Encontrar duplicadas verifica todas as linhas e só consta como duplicata se todas forem iguais\n",
    "df_Duplicatas = df_base_Mercedes_Caminhões.drop_duplicates()\n",
    "\n",
    "# Limpar a coluna Modelo\n",
    "def limpar_modelo(texto):\n",
    "    if isinstance(texto, str):\n",
    "        texto = texto.replace(\"Mercedes-Benz do Brasil \", \"\")\n",
    "        texto = texto.replace(\"Mercedes-Benz \", \"\")\n",
    "    return texto.strip()\n",
    "\n",
    "#Verificar se não a duplicatas\n",
    "df_Duplicatas['Modelo'] = df_Duplicatas['Modelo'].apply(limpar_modelo)\n",
    "\n",
    "df_Limpado = df_Duplicatas\n",
    "\n",
    "df_Limpado.to_excel('Base_Caminhoes_Mercedes.xlsx', index=False)"
   ]
  },
  {
   "cell_type": "markdown",
   "id": "90a48cc9",
   "metadata": {},
   "source": [
    "Scania Caminhões"
   ]
  },
  {
   "cell_type": "code",
   "execution_count": null,
   "id": "272ffa96",
   "metadata": {},
   "outputs": [],
   "source": [
    "import pandas as pd"
   ]
  }
 ],
 "metadata": {
  "kernelspec": {
   "display_name": "base",
   "language": "python",
   "name": "python3"
  },
  "language_info": {
   "codemirror_mode": {
    "name": "ipython",
    "version": 3
   },
   "file_extension": ".py",
   "mimetype": "text/x-python",
   "name": "python",
   "nbconvert_exporter": "python",
   "pygments_lexer": "ipython3",
   "version": "3.12.7"
  }
 },
 "nbformat": 4,
 "nbformat_minor": 5
}
